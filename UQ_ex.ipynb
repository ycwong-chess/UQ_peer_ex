{
 "cells": [
  {
   "cell_type": "markdown",
   "id": "bbedde59",
   "metadata": {},
   "source": [
    "To complete this reproducible result exercise, you will first need to have ASE and MACE installed. Following the documentation pdf file, you should now already have MACE installed with pip. If you do not have ase installed, simply do `pip install ase` or `pip install ase --upgrade`."
   ]
  },
  {
   "cell_type": "markdown",
   "id": "fb513a63",
   "metadata": {},
   "source": [
    "You might find the formula for MAE and RMSE useful:\n",
    "$$ \\text{MAE} = \\frac{1}{n} \\sum_{i=1}^{n} \\lvert y_i - f_i \\rvert, \\text{ RMSE } = \\sqrt{\\frac{1}{n} \\sum_{i=1}^{n} (y_i - f_i)^2} $$\n",
    "\n",
    "here $n$ is the total number of data points, $y_i$ is the ground truth of the value such as the force component obtained from DFT calculation, and $f_i$ is the prediction from the trained model. \n"
   ]
  },
  {
   "cell_type": "code",
   "execution_count": 1,
   "id": "32539944",
   "metadata": {},
   "outputs": [],
   "source": [
    "# This cell loads the essential package for the user\n",
    "# If any package is not loaded correctly, try re-installing/upgrading the package and re-open the jupyter notebook\n",
    "import ase\n",
    "import numpy as np\n",
    "import matplotlib.pyplot as plt\n",
    "from ase.io import read\n",
    "from ase.visualize import view\n",
    "from mace.calculators import MACECalculator\n",
    "from mace.calculators import mace_mp # MACE_MP model"
   ]
  },
  {
   "cell_type": "markdown",
   "id": "c99ebb31",
   "metadata": {},
   "source": [
    "The following cell provides an example for reading the .xyz file and loading a mace calculator:\n",
    "\n",
    "`configs = read(\"{your_test_file_path}.xyz\", \":\")`\n",
    "\n",
    "`MACE_calc = MACECalculator(model_paths={your_model_path}, device='cuda')`\n",
    "\n",
    "`MACE_MP_calc = mace_mp(device='cuda')`\n",
    "\n",
    "The first line reads all configuration in the .xyz file, including atomic positions, energies etc.\n",
    "The second line is an example of how to load a MACE calculator. `'cuda'` should be used as GPU is much faster. It is available on the theory nodes. The third line is the way to load MACE_MP calculator.\n",
    "\n",
    "With all the information above, you should be able to calculate the MAE and RMSE as shown in the documentation pdf."
   ]
  },
  {
   "cell_type": "markdown",
   "id": "5ce63fac",
   "metadata": {},
   "source": [
    "There may occasionally be problem related to MACE calculator type not matched. For instance, the below code **MAY NOT** work:\n",
    "\n",
    "```\n",
    "at = read(\"./xx.xyz\", index=\"1\")\n",
    "at.calc = mace_MP_calc\n",
    "at.get_forces()\n",
    "at.calc = MACE_calc\n",
    "at.get_forces()\n",
    "```\n",
    "\n",
    "This is most likely due to the memory issue when loading MACE calculator in Jupyter notebook. The simplest way to get around it is to **perform the calculations with different calculator in separate cells**."
   ]
  },
  {
   "cell_type": "code",
   "execution_count": null,
   "id": "e05e372c",
   "metadata": {},
   "outputs": [],
   "source": [
    "#### Your task here"
   ]
  },
  {
   "cell_type": "code",
   "execution_count": null,
   "id": "a36d0d6c",
   "metadata": {},
   "outputs": [],
   "source": []
  }
 ],
 "metadata": {
  "kernelspec": {
   "display_name": "Python 3 (ipykernel)",
   "language": "python",
   "name": "python3"
  },
  "language_info": {
   "codemirror_mode": {
    "name": "ipython",
    "version": 3
   },
   "file_extension": ".py",
   "mimetype": "text/x-python",
   "name": "python",
   "nbconvert_exporter": "python",
   "pygments_lexer": "ipython3",
   "version": "3.10.4"
  }
 },
 "nbformat": 4,
 "nbformat_minor": 5
}
